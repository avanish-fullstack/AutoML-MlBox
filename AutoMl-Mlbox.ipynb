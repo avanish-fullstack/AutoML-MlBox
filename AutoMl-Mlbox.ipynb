{
 "cells": [
  {
   "cell_type": "code",
   "execution_count": 1,
   "metadata": {},
   "outputs": [
    {
     "name": "stderr",
     "output_type": "stream",
     "text": [
      "Using TensorFlow backend.\n",
      "C:\\Users\\avani\\AnacondaLatest\\envs\\MLBox\\lib\\site-packages\\tensorflow\\python\\framework\\dtypes.py:516: FutureWarning: Passing (type, 1) or '1type' as a synonym of type is deprecated; in a future version of numpy, it will be understood as (type, (1,)) / '(1,)type'.\n",
      "  _np_qint8 = np.dtype([(\"qint8\", np.int8, 1)])\n",
      "C:\\Users\\avani\\AnacondaLatest\\envs\\MLBox\\lib\\site-packages\\tensorflow\\python\\framework\\dtypes.py:517: FutureWarning: Passing (type, 1) or '1type' as a synonym of type is deprecated; in a future version of numpy, it will be understood as (type, (1,)) / '(1,)type'.\n",
      "  _np_quint8 = np.dtype([(\"quint8\", np.uint8, 1)])\n",
      "C:\\Users\\avani\\AnacondaLatest\\envs\\MLBox\\lib\\site-packages\\tensorflow\\python\\framework\\dtypes.py:518: FutureWarning: Passing (type, 1) or '1type' as a synonym of type is deprecated; in a future version of numpy, it will be understood as (type, (1,)) / '(1,)type'.\n",
      "  _np_qint16 = np.dtype([(\"qint16\", np.int16, 1)])\n",
      "C:\\Users\\avani\\AnacondaLatest\\envs\\MLBox\\lib\\site-packages\\tensorflow\\python\\framework\\dtypes.py:519: FutureWarning: Passing (type, 1) or '1type' as a synonym of type is deprecated; in a future version of numpy, it will be understood as (type, (1,)) / '(1,)type'.\n",
      "  _np_quint16 = np.dtype([(\"quint16\", np.uint16, 1)])\n",
      "C:\\Users\\avani\\AnacondaLatest\\envs\\MLBox\\lib\\site-packages\\tensorflow\\python\\framework\\dtypes.py:520: FutureWarning: Passing (type, 1) or '1type' as a synonym of type is deprecated; in a future version of numpy, it will be understood as (type, (1,)) / '(1,)type'.\n",
      "  _np_qint32 = np.dtype([(\"qint32\", np.int32, 1)])\n",
      "C:\\Users\\avani\\AnacondaLatest\\envs\\MLBox\\lib\\site-packages\\tensorflow\\python\\framework\\dtypes.py:525: FutureWarning: Passing (type, 1) or '1type' as a synonym of type is deprecated; in a future version of numpy, it will be understood as (type, (1,)) / '(1,)type'.\n",
      "  np_resource = np.dtype([(\"resource\", np.ubyte, 1)])\n",
      "C:\\Users\\avani\\AnacondaLatest\\envs\\MLBox\\lib\\site-packages\\tensorboard\\compat\\tensorflow_stub\\dtypes.py:541: FutureWarning: Passing (type, 1) or '1type' as a synonym of type is deprecated; in a future version of numpy, it will be understood as (type, (1,)) / '(1,)type'.\n",
      "  _np_qint8 = np.dtype([(\"qint8\", np.int8, 1)])\n",
      "C:\\Users\\avani\\AnacondaLatest\\envs\\MLBox\\lib\\site-packages\\tensorboard\\compat\\tensorflow_stub\\dtypes.py:542: FutureWarning: Passing (type, 1) or '1type' as a synonym of type is deprecated; in a future version of numpy, it will be understood as (type, (1,)) / '(1,)type'.\n",
      "  _np_quint8 = np.dtype([(\"quint8\", np.uint8, 1)])\n",
      "C:\\Users\\avani\\AnacondaLatest\\envs\\MLBox\\lib\\site-packages\\tensorboard\\compat\\tensorflow_stub\\dtypes.py:543: FutureWarning: Passing (type, 1) or '1type' as a synonym of type is deprecated; in a future version of numpy, it will be understood as (type, (1,)) / '(1,)type'.\n",
      "  _np_qint16 = np.dtype([(\"qint16\", np.int16, 1)])\n",
      "C:\\Users\\avani\\AnacondaLatest\\envs\\MLBox\\lib\\site-packages\\tensorboard\\compat\\tensorflow_stub\\dtypes.py:544: FutureWarning: Passing (type, 1) or '1type' as a synonym of type is deprecated; in a future version of numpy, it will be understood as (type, (1,)) / '(1,)type'.\n",
      "  _np_quint16 = np.dtype([(\"quint16\", np.uint16, 1)])\n",
      "C:\\Users\\avani\\AnacondaLatest\\envs\\MLBox\\lib\\site-packages\\tensorboard\\compat\\tensorflow_stub\\dtypes.py:545: FutureWarning: Passing (type, 1) or '1type' as a synonym of type is deprecated; in a future version of numpy, it will be understood as (type, (1,)) / '(1,)type'.\n",
      "  _np_qint32 = np.dtype([(\"qint32\", np.int32, 1)])\n",
      "C:\\Users\\avani\\AnacondaLatest\\envs\\MLBox\\lib\\site-packages\\tensorboard\\compat\\tensorflow_stub\\dtypes.py:550: FutureWarning: Passing (type, 1) or '1type' as a synonym of type is deprecated; in a future version of numpy, it will be understood as (type, (1,)) / '(1,)type'.\n",
      "  np_resource = np.dtype([(\"resource\", np.ubyte, 1)])\n"
     ]
    }
   ],
   "source": [
    "from mlbox.preprocessing import *\n",
    "from mlbox.optimisation import *\n",
    "from mlbox.prediction import *\n",
    "\n",
    "import  warnings\n",
    "warnings.filterwarnings(\"ignore\")"
   ]
  },
  {
   "cell_type": "code",
   "execution_count": 2,
   "metadata": {},
   "outputs": [
    {
     "name": "stdout",
     "output_type": "stream",
     "text": [
      "\n",
      "reading csv : train_bm.csv ...\n",
      "cleaning data ...\n",
      "CPU time: 0.15099406242370605 seconds\n",
      "\n",
      "reading csv : test_bm.csv ...\n",
      "cleaning data ...\n",
      "CPU time: 5.038973569869995 seconds\n",
      "\n",
      "> Number of common features : 11\n",
      "\n",
      "gathering and crunching for train and test datasets ...\n",
      "reindexing for train and test datasets ...\n",
      "dropping training duplicates ...\n",
      "dropping constant variables on training set ...\n",
      "\n",
      "> Number of categorical features: 7\n",
      "> Number of numerical features: 4\n",
      "> Number of training samples : 8523\n",
      "> Number of test samples : 5681\n",
      "\n",
      "> Top sparse features (% missing values on train set):\n",
      "Outlet_Size    28.3\n",
      "Item_Weight    17.2\n",
      "dtype: float64\n",
      "\n",
      "> Task : regression\n",
      "count     8523.000000\n",
      "mean      2181.288914\n",
      "std       1706.499616\n",
      "min         33.290000\n",
      "25%        834.247400\n",
      "50%       1794.331000\n",
      "75%       3101.296400\n",
      "max      13086.964800\n",
      "Name: Item_Outlet_Sales, dtype: float64\n"
     ]
    }
   ],
   "source": [
    "# reading and cleaning the train and test files\n",
    "df = Reader(sep = \",\").train_test_split(['train_bm.csv','test_bm.csv'] , 'Item_Outlet_Sales')"
   ]
  },
  {
   "cell_type": "code",
   "execution_count": 3,
   "metadata": {},
   "outputs": [
    {
     "data": {
      "text/plain": [
       "dict_keys(['train', 'test', 'target'])"
      ]
     },
     "execution_count": 3,
     "metadata": {},
     "output_type": "execute_result"
    }
   ],
   "source": [
    "df.keys()"
   ]
  },
  {
   "cell_type": "code",
   "execution_count": 4,
   "metadata": {},
   "outputs": [
    {
     "name": "stdout",
     "output_type": "stream",
     "text": [
      "Train data shape - (8523, 11)\n",
      "Test data shape -  (5681, 11)\n"
     ]
    }
   ],
   "source": [
    "print('Train data shape -' , df['train'].shape)\n",
    "print('Test data shape - ', df['test'].shape)"
   ]
  },
  {
   "cell_type": "code",
   "execution_count": 5,
   "metadata": {},
   "outputs": [
    {
     "data": {
      "text/plain": [
       "Item_Fat_Content                0\n",
       "Item_Identifier                 0\n",
       "Item_MRP                        0\n",
       "Item_Type                       0\n",
       "Item_Visibility                 0\n",
       "Item_Weight                  1463\n",
       "Outlet_Establishment_Year       0\n",
       "Outlet_Identifier               0\n",
       "Outlet_Location_Type            0\n",
       "Outlet_Size                  2410\n",
       "Outlet_Type                     0\n",
       "dtype: int64"
      ]
     },
     "execution_count": 5,
     "metadata": {},
     "output_type": "execute_result"
    }
   ],
   "source": [
    "df['train'].isnull().sum()"
   ]
  },
  {
   "cell_type": "code",
   "execution_count": 6,
   "metadata": {},
   "outputs": [
    {
     "data": {
      "text/plain": [
       "Item_Fat_Content                0\n",
       "Item_Identifier                 0\n",
       "Item_MRP                        0\n",
       "Item_Type                       0\n",
       "Item_Visibility                 0\n",
       "Item_Weight                   976\n",
       "Outlet_Establishment_Year       0\n",
       "Outlet_Identifier               0\n",
       "Outlet_Location_Type            0\n",
       "Outlet_Size                  1606\n",
       "Outlet_Type                     0\n",
       "dtype: int64"
      ]
     },
     "execution_count": 6,
     "metadata": {},
     "output_type": "execute_result"
    }
   ],
   "source": [
    "df['test'].isnull().sum()"
   ]
  },
  {
   "cell_type": "code",
   "execution_count": 7,
   "metadata": {},
   "outputs": [],
   "source": [
    "# optimisation\n",
    "space = {'ne__numerical_strategy': {'space': ['median','mean','mode']},\n",
    "         'ne__categorical_strategy' : {'space': ['mode']} , \n",
    "         \n",
    "         'ce__strategy': {'search':'choice', 'space': ['label_encoding','entity_embedding']},\n",
    "         'fs__strategy': {'search': 'choice', 'space': ['variance', 'rf_feature_importance']},\n",
    "         'fs__threshold': {'search': 'uniform', 'space': [0.01, 0.3]},\n",
    "         \n",
    "         #model building strategy\n",
    "         'est__strategy' : {'space': ['RandomForest']},\n",
    "         'est__max_depth' : {'search':'choice', 'space': [3,4,8,9]},\n",
    "         'est__n_estimators': {'search':'choice' , 'space': [250,400,500,1000]}         \n",
    "        }"
   ]
  },
  {
   "cell_type": "code",
   "execution_count": 8,
   "metadata": {},
   "outputs": [
    {
     "name": "stdout",
     "output_type": "stream",
     "text": [
      "##################################################### testing hyper-parameters... #####################################################\n",
      ">>> NA ENCODER :{'numerical_strategy': 'mean', 'categorical_strategy': 'mode'}\n",
      ">>> CA ENCODER :{'strategy': 'entity_embedding'}    \n",
      ">>> FEATURE SELECTOR :{'strategy': 'rf_feature_importance', 'threshold': 0.2160306535156606}\n",
      ">>> ESTIMATOR :{'strategy': 'RandomForest', 'max_depth': 9, 'n_estimators': 500, 'bootstrap': True, 'criterion': 'mse', 'max_features': 'sqrt', 'max_leaf_nodes': None, 'min_impurity_decrease': 0.0, 'min_impurity_split': None, 'min_samples_leaf': 1, 'min_samples_split': 2, 'min_weight_fraction_leaf': 0.0, 'n_jobs': -1, 'oob_score': False, 'random_state': 0, 'verbose': 0, 'warm_start': False}\n",
      "  0%|          | 0/10 [00:00<?, ?it/s, best loss: ?]WARNING:tensorflow:From C:\\Users\\avani\\AnacondaLatest\\envs\\MLBox\\lib\\site-packages\\keras\\backend\\tensorflow_backend.py:74: The name tf.get_default_graph is deprecated. Please use tf.compat.v1.get_default_graph instead.\n",
      "\n",
      "WARNING:tensorflow:From C:\\Users\\avani\\AnacondaLatest\\envs\\MLBox\\lib\\site-packages\\keras\\backend\\tensorflow_backend.py:517: The name tf.placeholder is deprecated. Please use tf.compat.v1.placeholder instead.\n",
      "\n",
      "WARNING:tensorflow:From C:\\Users\\avani\\AnacondaLatest\\envs\\MLBox\\lib\\site-packages\\keras\\backend\\tensorflow_backend.py:4138: The name tf.random_uniform is deprecated. Please use tf.random.uniform instead.\n",
      "\n",
      "WARNING:tensorflow:From C:\\Users\\avani\\AnacondaLatest\\envs\\MLBox\\lib\\site-packages\\keras\\backend\\tensorflow_backend.py:133: The name tf.placeholder_with_default is deprecated. Please use tf.compat.v1.placeholder_with_default instead.\n",
      "\n",
      "WARNING:tensorflow:From C:\\Users\\avani\\AnacondaLatest\\envs\\MLBox\\lib\\site-packages\\keras\\backend\\tensorflow_backend.py:3445: calling dropout (from tensorflow.python.ops.nn_ops) with keep_prob is deprecated and will be removed in a future version.\n",
      "Instructions for updating:\n",
      "Please use `rate` instead of `keep_prob`. Rate should be set to `rate = 1 - keep_prob`.\n",
      "WARNING:tensorflow:From C:\\Users\\avani\\AnacondaLatest\\envs\\MLBox\\lib\\site-packages\\keras\\backend\\tensorflow_backend.py:4115: The name tf.random_normal is deprecated. Please use tf.random.normal instead.\n",
      "\n",
      "WARNING:tensorflow:From C:\\Users\\avani\\AnacondaLatest\\envs\\MLBox\\lib\\site-packages\\keras\\optimizers.py:790: The name tf.train.Optimizer is deprecated. Please use tf.compat.v1.train.Optimizer instead.\n",
      "\n",
      "MEAN SCORE : r2 = 0.5032866086712025                \n",
      "VARIANCE : 0.009107607444636623 (fold 1 = 0.49939082551538216, fold 2 = 0.5004726300236078, fold 3 = 0.5046308636789978, fold 4 = 0.5196705593066409, fold 5 = 0.49226816483138347)\n",
      "CPU time: 81.574059009552 seconds                   \n",
      "##################################################### testing hyper-parameters... #####################################################\n",
      ">>> NA ENCODER :{'numerical_strategy': 'mean', 'categorical_strategy': 'mode'}\n",
      ">>> CA ENCODER :{'strategy': 'entity_embedding'}                              \n",
      ">>> FEATURE SELECTOR :{'strategy': 'variance', 'threshold': 0.1883891647811556}\n",
      ">>> ESTIMATOR :{'strategy': 'RandomForest', 'max_depth': 4, 'n_estimators': 400, 'bootstrap': True, 'criterion': 'mse', 'max_features': 'sqrt', 'max_leaf_nodes': None, 'min_impurity_decrease': 0.0, 'min_impurity_split': None, 'min_samples_leaf': 1, 'min_samples_split': 2, 'min_weight_fraction_leaf': 0.0, 'n_jobs': -1, 'oob_score': False, 'random_state': 0, 'verbose': 0, 'warm_start': False}\n",
      "MEAN SCORE : r2 = 0.4901230635748771                                          \n",
      "VARIANCE : 0.016312448944424976 (fold 1 = 0.49360355313415694, fold 2 = 0.48247417261500203, fold 3 = 0.4846819450184974, fold 4 = 0.5192597306332434, fold 5 = 0.47059591647348575)\n",
      "CPU time: 13.130532264709473 seconds                                          \n",
      "##################################################### testing hyper-parameters... #####################################################\n",
      ">>> NA ENCODER :{'numerical_strategy': 'median', 'categorical_strategy': 'mode'}\n",
      ">>> CA ENCODER :{'strategy': 'label_encoding'}                                \n",
      ">>> FEATURE SELECTOR :{'strategy': 'variance', 'threshold': 0.028424527491268926}\n",
      ">>> ESTIMATOR :{'strategy': 'RandomForest', 'max_depth': 3, 'n_estimators': 400, 'bootstrap': True, 'criterion': 'mse', 'max_features': 'sqrt', 'max_leaf_nodes': None, 'min_impurity_decrease': 0.0, 'min_impurity_split': None, 'min_samples_leaf': 1, 'min_samples_split': 2, 'min_weight_fraction_leaf': 0.0, 'n_jobs': -1, 'oob_score': False, 'random_state': 0, 'verbose': 0, 'warm_start': False}\n",
      "MEAN SCORE : r2 = 0.4736745461753012                                          \n",
      "VARIANCE : 0.010898655821881754 (fold 1 = 0.4785151281608382, fold 2 = 0.46833122709634656, fold 3 = 0.4754094906767484, fold 4 = 0.489461978689274, fold 5 = 0.45665490625329896)\n",
      "CPU time: 7.39777946472168 seconds                                            \n",
      "##################################################### testing hyper-parameters... #####################################################\n",
      ">>> NA ENCODER :{'numerical_strategy': 'median', 'categorical_strategy': 'mode'}\n",
      ">>> CA ENCODER :{'strategy': 'label_encoding'}                                \n",
      ">>> FEATURE SELECTOR :{'strategy': 'rf_feature_importance', 'threshold': 0.14115164381893774}\n",
      ">>> ESTIMATOR :{'strategy': 'RandomForest', 'max_depth': 4, 'n_estimators': 500, 'bootstrap': True, 'criterion': 'mse', 'max_features': 'sqrt', 'max_leaf_nodes': None, 'min_impurity_decrease': 0.0, 'min_impurity_split': None, 'min_samples_leaf': 1, 'min_samples_split': 2, 'min_weight_fraction_leaf': 0.0, 'n_jobs': -1, 'oob_score': False, 'random_state': 0, 'verbose': 0, 'warm_start': False}\n",
      "MEAN SCORE : r2 = 0.5276829529325159                                          \n",
      "VARIANCE : 0.012656586471975288 (fold 1 = 0.5358928546808457, fold 2 = 0.5181792430648768, fold 3 = 0.5246264814895729, fold 4 = 0.547527535741523, fold 5 = 0.5121886496857615)\n",
      "CPU time: 23.132898092269897 seconds                                          \n",
      "##################################################### testing hyper-parameters... #####################################################\n",
      ">>> NA ENCODER :{'numerical_strategy': 'mode', 'categorical_strategy': 'mode'}\n",
      ">>> CA ENCODER :{'strategy': 'label_encoding'}                                \n",
      ">>> FEATURE SELECTOR :{'strategy': 'variance', 'threshold': 0.16163374062385558}\n",
      ">>> ESTIMATOR :{'strategy': 'RandomForest', 'max_depth': 3, 'n_estimators': 1000, 'bootstrap': True, 'criterion': 'mse', 'max_features': 'sqrt', 'max_leaf_nodes': None, 'min_impurity_decrease': 0.0, 'min_impurity_split': None, 'min_samples_leaf': 1, 'min_samples_split': 2, 'min_weight_fraction_leaf': 0.0, 'n_jobs': -1, 'oob_score': False, 'random_state': 0, 'verbose': 0, 'warm_start': False}\n",
      "MEAN SCORE : r2 = -inf                                                        \n",
      "VARIANCE : nan (fold 1 = -inf, fold 2 = -inf, fold 3 = -inf, fold 4 = -inf, fold 5 = -inf)\n",
      "CPU time: 0.16034531593322754 seconds                                         \n",
      "##################################################### testing hyper-parameters... #####################################################\n",
      ">>> NA ENCODER :{'numerical_strategy': 'median', 'categorical_strategy': 'mode'}\n",
      ">>> CA ENCODER :{'strategy': 'entity_embedding'}                              \n",
      ">>> FEATURE SELECTOR :{'strategy': 'variance', 'threshold': 0.09519045411527198}\n",
      ">>> ESTIMATOR :{'strategy': 'RandomForest', 'max_depth': 9, 'n_estimators': 1000, 'bootstrap': True, 'criterion': 'mse', 'max_features': 'sqrt', 'max_leaf_nodes': None, 'min_impurity_decrease': 0.0, 'min_impurity_split': None, 'min_samples_leaf': 1, 'min_samples_split': 2, 'min_weight_fraction_leaf': 0.0, 'n_jobs': -1, 'oob_score': False, 'random_state': 0, 'verbose': 0, 'warm_start': False}\n",
      "MEAN SCORE : r2 = 0.5021956130080851                                          \n",
      "VARIANCE : 0.012318560044161025 (fold 1 = 0.49747787661506315, fold 2 = 0.49864939222242965, fold 3 = 0.5032567835463702, fold 4 = 0.5244629611480665, fold 5 = 0.48713105150849645)\n"
     ]
    },
    {
     "name": "stdout",
     "output_type": "stream",
     "text": [
      "CPU time: 41.5283567905426 seconds                                            \n",
      "##################################################### testing hyper-parameters... #####################################################\n",
      ">>> NA ENCODER :{'numerical_strategy': 'mean', 'categorical_strategy': 'mode'}\n",
      ">>> CA ENCODER :{'strategy': 'label_encoding'}                                \n",
      ">>> FEATURE SELECTOR :{'strategy': 'variance', 'threshold': 0.054030111395777417}\n",
      ">>> ESTIMATOR :{'strategy': 'RandomForest', 'max_depth': 4, 'n_estimators': 250, 'bootstrap': True, 'criterion': 'mse', 'max_features': 'sqrt', 'max_leaf_nodes': None, 'min_impurity_decrease': 0.0, 'min_impurity_split': None, 'min_samples_leaf': 1, 'min_samples_split': 2, 'min_weight_fraction_leaf': 0.0, 'n_jobs': -1, 'oob_score': False, 'random_state': 0, 'verbose': 0, 'warm_start': False}\n",
      "MEAN SCORE : r2 = 0.5272689322849053                                          \n",
      "VARIANCE : 0.009779325768345415 (fold 1 = 0.5286655451855939, fold 2 = 0.5243565794918406, fold 3 = 0.5303424262835871, fold 4 = 0.5416076620487011, fold 5 = 0.5113724484148042)\n",
      "CPU time: 5.258975982666016 seconds                                           \n",
      "##################################################### testing hyper-parameters... #####################################################\n",
      ">>> NA ENCODER :{'numerical_strategy': 'median', 'categorical_strategy': 'mode'}\n",
      ">>> CA ENCODER :{'strategy': 'entity_embedding'}                              \n",
      ">>> FEATURE SELECTOR :{'strategy': 'variance', 'threshold': 0.22751357631654395}\n",
      ">>> ESTIMATOR :{'strategy': 'RandomForest', 'max_depth': 9, 'n_estimators': 500, 'bootstrap': True, 'criterion': 'mse', 'max_features': 'sqrt', 'max_leaf_nodes': None, 'min_impurity_decrease': 0.0, 'min_impurity_split': None, 'min_samples_leaf': 1, 'min_samples_split': 2, 'min_weight_fraction_leaf': 0.0, 'n_jobs': -1, 'oob_score': False, 'random_state': 0, 'verbose': 0, 'warm_start': False}\n",
      "MEAN SCORE : r2 = 0.5026908296437937                                          \n",
      "VARIANCE : 0.012291857329969095 (fold 1 = 0.4984197453502456, fold 2 = 0.49806786860243524, fold 3 = 0.5046629139696343, fold 4 = 0.5246988983911658, fold 5 = 0.48760472190548754)\n",
      "CPU time: 21.821043729782104 seconds                                          \n",
      "##################################################### testing hyper-parameters... #####################################################\n",
      ">>> NA ENCODER :{'numerical_strategy': 'mode', 'categorical_strategy': 'mode'}\n",
      ">>> CA ENCODER :{'strategy': 'label_encoding'}                                \n",
      ">>> FEATURE SELECTOR :{'strategy': 'variance', 'threshold': 0.23639219825242355}\n",
      ">>> ESTIMATOR :{'strategy': 'RandomForest', 'max_depth': 9, 'n_estimators': 400, 'bootstrap': True, 'criterion': 'mse', 'max_features': 'sqrt', 'max_leaf_nodes': None, 'min_impurity_decrease': 0.0, 'min_impurity_split': None, 'min_samples_leaf': 1, 'min_samples_split': 2, 'min_weight_fraction_leaf': 0.0, 'n_jobs': -1, 'oob_score': False, 'random_state': 0, 'verbose': 0, 'warm_start': False}\n",
      "MEAN SCORE : r2 = -inf                                                        \n",
      "VARIANCE : nan (fold 1 = -inf, fold 2 = -inf, fold 3 = -inf, fold 4 = -inf, fold 5 = -inf)\n",
      "CPU time: 0.1149904727935791 seconds                                          \n",
      "##################################################### testing hyper-parameters... #####################################################\n",
      ">>> NA ENCODER :{'numerical_strategy': 'mean', 'categorical_strategy': 'mode'}\n",
      ">>> CA ENCODER :{'strategy': 'label_encoding'}                                \n",
      ">>> FEATURE SELECTOR :{'strategy': 'rf_feature_importance', 'threshold': 0.16544538179164675}\n",
      ">>> ESTIMATOR :{'strategy': 'RandomForest', 'max_depth': 8, 'n_estimators': 500, 'bootstrap': True, 'criterion': 'mse', 'max_features': 'sqrt', 'max_leaf_nodes': None, 'min_impurity_decrease': 0.0, 'min_impurity_split': None, 'min_samples_leaf': 1, 'min_samples_split': 2, 'min_weight_fraction_leaf': 0.0, 'n_jobs': -1, 'oob_score': False, 'random_state': 0, 'verbose': 0, 'warm_start': False}\n",
      "MEAN SCORE : r2 = 0.5944422415261247                                          \n",
      "VARIANCE : 0.01505510511648332 (fold 1 = 0.5910056825476082, fold 2 = 0.5818233835495352, fold 3 = 0.594980448114266, fold 4 = 0.622713694646666, fold 5 = 0.5816879987725478)\n",
      "CPU time: 29.464030504226685 seconds                                          \n",
      "100%|██████████| 10/10 [03:43<00:00, 22.40s/it, best loss: -0.5944422415261247]\n",
      "\n",
      "\n",
      "~~~~~~~~~~~~~~~~~~~~~~~~~~~~~~~~~~~~~~~~~~~~~~~~~~~~~~~~~~~~~~~~~~~~~~~~~~~~~~~~~~~~~~~~~~~~~~~~~~~~~~~~~~~~~~~~~~~~~~~~~~~~~~~~~~~~~~~~~\n",
      "~~~~~~~~~~~~~~~~~~~~~~~~~~~~~~~~~~~~~~~~~~~~~~~~~~~~~~~~~ BEST HYPER-PARAMETERS ~~~~~~~~~~~~~~~~~~~~~~~~~~~~~~~~~~~~~~~~~~~~~~~~~~~~~~~~~\n",
      "~~~~~~~~~~~~~~~~~~~~~~~~~~~~~~~~~~~~~~~~~~~~~~~~~~~~~~~~~~~~~~~~~~~~~~~~~~~~~~~~~~~~~~~~~~~~~~~~~~~~~~~~~~~~~~~~~~~~~~~~~~~~~~~~~~~~~~~~~\n",
      "\n",
      "{'ce__strategy': 'label_encoding', 'est__max_depth': 8, 'est__n_estimators': 500, 'est__strategy': 'RandomForest', 'fs__strategy': 'rf_feature_importance', 'fs__threshold': 0.16544538179164675, 'ne__categorical_strategy': 'mode', 'ne__numerical_strategy': 'mean'}\n"
     ]
    }
   ],
   "source": [
    "best = Optimiser(scoring='r2',n_folds = 5).optimise(space,df,10)"
   ]
  },
  {
   "cell_type": "code",
   "execution_count": 9,
   "metadata": {},
   "outputs": [
    {
     "data": {
      "text/plain": [
       "{'ce__strategy': 'label_encoding',\n",
       " 'est__max_depth': 8,\n",
       " 'est__n_estimators': 500,\n",
       " 'est__strategy': 'RandomForest',\n",
       " 'fs__strategy': 'rf_feature_importance',\n",
       " 'fs__threshold': 0.16544538179164675,\n",
       " 'ne__categorical_strategy': 'mode',\n",
       " 'ne__numerical_strategy': 'mean'}"
      ]
     },
     "execution_count": 9,
     "metadata": {},
     "output_type": "execute_result"
    }
   ],
   "source": [
    "best"
   ]
  },
  {
   "cell_type": "code",
   "execution_count": 10,
   "metadata": {},
   "outputs": [
    {
     "name": "stdout",
     "output_type": "stream",
     "text": [
      "\n",
      "fitting the pipeline ...\n",
      "CPU time: 6.301243305206299 seconds\n",
      "\n",
      "predicting...\n",
      "CPU time: 0.3739910125732422 seconds\n",
      "\n",
      "> Overview on predictions : \n",
      "\n",
      "   Item_Outlet_Sales_predicted\n",
      "0                  1694.197890\n",
      "1                  1435.819320\n",
      "2                   604.026889\n",
      "3                  2600.835689\n",
      "4                  5703.266577\n",
      "5                  1830.101099\n",
      "6                   846.531011\n",
      "7                  2241.469742\n",
      "8                  1586.501548\n",
      "9                  2992.014398\n",
      "\n",
      "dumping predictions into directory : save ...\n"
     ]
    },
    {
     "data": {
      "text/plain": [
       "<mlbox.prediction.predictor.Predictor at 0x1e5ea998fd0>"
      ]
     },
     "execution_count": 10,
     "metadata": {},
     "output_type": "execute_result"
    }
   ],
   "source": [
    "# predictions on Test Data\n",
    "Predictor().fit_predict(best,df)"
   ]
  },
  {
   "cell_type": "code",
   "execution_count": null,
   "metadata": {},
   "outputs": [],
   "source": []
  }
 ],
 "metadata": {
  "kernelspec": {
   "display_name": "Python 3",
   "language": "python",
   "name": "python3"
  },
  "language_info": {
   "codemirror_mode": {
    "name": "ipython",
    "version": 3
   },
   "file_extension": ".py",
   "mimetype": "text/x-python",
   "name": "python",
   "nbconvert_exporter": "python",
   "pygments_lexer": "ipython3",
   "version": "3.6.9"
  }
 },
 "nbformat": 4,
 "nbformat_minor": 2
}
